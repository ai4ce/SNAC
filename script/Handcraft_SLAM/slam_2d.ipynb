{
 "cells": [
  {
   "cell_type": "code",
   "execution_count": 1,
   "metadata": {},
   "outputs": [],
   "source": [
    "import gym\n",
    "import torch\n",
    "from gym import spaces\n",
    "from collections import defaultdict\n",
    "import heapq\n",
    "import matplotlib.pyplot as plt\n",
    "import numpy as np\n",
    "import sys\n",
    "sys.path.append('../Env/2D/')\n",
    "from DMP_Env_2D_static import deep_mobile_printing_2d1r\n",
    "import heapq "
   ]
  },
  {
   "cell_type": "code",
   "execution_count": 2,
   "metadata": {},
   "outputs": [],
   "source": [
    "# env = deep_mobile_printing_2d1r(plan_choose=1)\n",
    "# obs = env.reset()\n",
    "# initial_position=[0,0]\n",
    "# # initial_action_prior=np.random.choice(4,1,p=[0, .5, 0, .5])\n",
    "\n",
    "# # 0 left, 1 right, 2 up, 3 down , 4drop\n",
    "\n",
    "# initial_action_prior=[0, 0, 0, 0] # means we initially assume go down and right is advanced action "
   ]
  },
  {
   "cell_type": "code",
   "execution_count": 3,
   "metadata": {},
   "outputs": [],
   "source": [
    "def localization(action, obs, new_obs, previous_position):\n",
    "    [x,y]=previous_position\n",
    "    # 0 left, 1 right, 2 up, 3 down, 4 drop\n",
    "    obs = obs[0][:49].reshape(7, 7)\n",
    "    new_obs = new_obs[0][:49].reshape(7, 7)\n",
    "    size_x = len(obs)\n",
    "    size_y = len(obs[0])\n",
    "\n",
    "    new_x, new_y = x, y\n",
    "    dx = [-1, 1, 0, 0]\n",
    "    dy = [0, 0, 1, -1]\n",
    "    if action == 4:\n",
    "        return new_x, new_y\n",
    "    elif (obs == new_obs).all():\n",
    "        print('enter action_none')\n",
    "        new_x = x + dx[action]\n",
    "        new_y = y + dy[action]\n",
    "\n",
    "\n",
    "    else:\n",
    "        if action == 0:\n",
    "            if (obs[:, :size_x + dx[action]] == new_obs[:, -dx[action]:]).all():\n",
    "                print('enter action0_1')\n",
    "                new_x = x + dx[action]\n",
    "            elif (obs[:, :size_x + 2 * dx[action]] == new_obs[:, -2 * dx[action]:]).all():\n",
    "                print('enter action0_2')\n",
    "                new_x = x + 2 * dx[action]\n",
    "            elif (obs[:, :size_x + 3 * dx[action]] == new_obs[:, -3 * dx[action]:]).all():\n",
    "                print('enter action0_3')\n",
    "                new_x = x + 3 * dx[action]\n",
    "        elif action == 1:  # right\n",
    "            if (new_obs[:, :size_x - dx[action]] == obs[:, dx[action]:]).all():\n",
    "                print('enter action1_1')\n",
    "                new_x = x + dx[action]\n",
    "            elif (new_obs[:, :size_x - 2 * dx[action]] == obs[:, 2 * dx[action]:]).all():\n",
    "                print('enter action1_2')\n",
    "                new_x = x + 2 * dx[action]\n",
    "            elif (new_obs[:, :size_x - 3 * dx[action]] == obs[:, 3 * dx[action]:]).all():\n",
    "                print('enter action1_3')\n",
    "                new_x = x + 3 * dx[action]\n",
    "        elif action == 2:  # up\n",
    "            if (new_obs[:size_y - dy[action], :] == obs[dy[action]:, :]).all():\n",
    "                print('enter action2_1')\n",
    "                new_y = y + dy[action]\n",
    "            elif (new_obs[:size_y - 2 * dy[action], :] == obs[2 * dy[action]:, :]).all():\n",
    "                print('enter action2_2')\n",
    "                new_y = y + 2 * dy[action]\n",
    "            elif (new_obs[:size_y - 3 * dy[action], :] == obs[3 * dy[action]:, :]).all():\n",
    "                print('enter action2_3')\n",
    "                new_y = y + 3 * dy[action]\n",
    "        elif action == 3:\n",
    "            if (obs[:size_y + dy[action], :] == new_obs[-dy[action]:, :]).all():\n",
    "                print('enter action3_1')\n",
    "                new_y = y + dy[action]\n",
    "            elif (obs[:size_y + 2 * dy[action], :] == new_obs[-2 * dy[action]:, :]).all():\n",
    "                print('enter action3_2')\n",
    "                new_y = y + 2 * dy[action]\n",
    "            elif (obs[:size_y + 3 * dy[action], :] == new_obs[-3 * dy[action]:, :]).all():\n",
    "                print('enter action3_3')\n",
    "                new_y = y + 3 * dy[action]\n",
    "\n",
    "    if new_x < 0: new_x = 0\n",
    "    if new_x >= env.plan_width: new_x = env.plan_width - 1\n",
    "    if new_y < 0: new_y = 0\n",
    "    if new_y > env.plan_width: new_y = env.plan_width - 1\n",
    "\n",
    "    # if the robot can see the wall, it can localize its position\n",
    "    dff_y = 0\n",
    "    dff_x = 0\n",
    "    mid = size_x // 2\n",
    "\n",
    "    if new_obs[0][mid] == -1.0:  # check upper_all\n",
    "        print('check_up')\n",
    "        for i in range(1, env.HALF_WINDOW_SIZE):\n",
    "            if new_obs[i][mid] == -1.0:\n",
    "                dff_y -= 1\n",
    "        new_y = env.HALF_WINDOW_SIZE - 1 + dff_y\n",
    "    elif new_obs[size_y - 1][mid] == -1.0:  # check down_wall\n",
    "        print('check_down')\n",
    "        for i in range(size_y - 2, env.HALF_WINDOW_SIZE, -1):\n",
    "            if new_obs[i][mid] == -1.0:\n",
    "                dff_y += 1\n",
    "        new_y = env.plan_height - env.HALF_WINDOW_SIZE + dff_y\n",
    "    if new_obs[mid][0] == -1.0:  # check left_wall\n",
    "        print('check_left')\n",
    "        for i in range(1, env.HALF_WINDOW_SIZE):\n",
    "            if new_obs[mid][i] == -1.0:\n",
    "                dff_x -= 1\n",
    "        new_x = env.HALF_WINDOW_SIZE - 1 + dff_x\n",
    "    elif new_obs[mid][size_x - 1] == -1.0:  # check right_wall\n",
    "        print('check_right')\n",
    "        for i in range(size_x - 2, env.HALF_WINDOW_SIZE, -1):\n",
    "            if new_obs[mid][i] == -1.0:\n",
    "                dff_x += 1\n",
    "        new_x = env.plan_width - env.HALF_WINDOW_SIZE + dff_x\n",
    "    return [new_x, new_y]"
   ]
  },
  {
   "cell_type": "code",
   "execution_count": 4,
   "metadata": {},
   "outputs": [],
   "source": [
    "def planing(position,obs,current_action_prior):\n",
    "    ###   reshape the input value \n",
    "    obs = obs[0][:49].reshape(7, 7)\n",
    "    current_position_row = position[0] + env.HALF_WINDOW_SIZE\n",
    "    current_position_column = position[1] + env.HALF_WINDOW_SIZE\n",
    "    \n",
    "    ######### determine the current action prior \n",
    "    \n",
    "    if (obs[:,0] == -1).all() or (obs[:,0:1] == -1).all()  or (obs[:,0:2] == -1).all(): ## in this case, robot observe left wall, so move right will be advanced\n",
    "        current_action_prior[0]=0\n",
    "        current_action_prior[1]=0.5\n",
    "    if (obs[0,:] == -1).all() or (obs[0:1,:] == -1).all()  or (obs[0:2,:] == -1).all(): ## in this case, robot observe bottom wall, so move down will be advanced\n",
    "        current_action_prior[2]=0.5\n",
    "        current_action_prior[3]=0\n",
    "    if (obs[:,6] == -1).all() or (obs[:,5:6] == -1).all()  or (obs[:,4:6] == -1).all(): ## in this case, robot observe right wall, so move left will be advanced\n",
    "        current_action_prior[0]=0.5\n",
    "        current_action_prior[1]=0\n",
    "    if (obs[6,:] == -1).all() or (obs[5:6,:] == -1).all()  or (obs[4:6,:] == -1).all(): ## in this case, robot observe top wall, so move up will be advanced\n",
    "        current_action_prior[2]=0\n",
    "        current_action_prior[3]=0.5\n",
    "        \n",
    "    ##### check the observation with the design D \n",
    "    distance_array=[]\n",
    "    for i in range(7):\n",
    "        for j in range(7):\n",
    "            if obs[i,j]==-1:\n",
    "                heapq.heappush(distance_array, (np.inf, [i,j]))\n",
    "            else:\n",
    "                if obs[i,j]==0 and env.plan[current_position_row-(3-i),current_position_column-(3-j)]==0:\n",
    "                    heapq.heappush(distance_array, (np.inf, [i,j]))\n",
    "                if obs[i,j]==1 and env.plan[current_position_row-(3-i),current_position_column-(3-j)]==0:\n",
    "                    heapq.heappush(distance_array, (np.inf, [i,j]))\n",
    "                if obs[i,j]==1 and env.plan[current_position_row-(3-i),current_position_column-(3-j)]==1:\n",
    "                    heapq.heappush(distance_array, (np.inf, [i,j]))\n",
    "                if obs[i,j]==0 and env.plan[current_position_row-(3-i),current_position_column-(3-j)]==1:\n",
    "                    heapq.heappush(distance_array, (np.abs(3-i)+np.abs(3-j), [i,j]))\n",
    "    print(distance_array)\n",
    "    smallest_distance_candidate=[]\n",
    "    smallest_distance_candidate.append(heapq.heappop(distance_array))\n",
    "    if smallest_distance_candidate[0][0]==np.inf:  ### in this case, all the position should not be built and also dont know where to move \n",
    "        action = np.random.choice(4, p=current_action_prior) ### so we choose action base on priority \n",
    "        return action, current_action_prior  \n",
    "    else:           ### in this case, we store all all the possible position for next step\n",
    "        for i in range(49):\n",
    "            smallest_distance_candidate.append(heapq.heappop(distance_array))\n",
    "            if smallest_distance_candidate[0][0] != smallest_distance_candidate[-1][0]:\n",
    "                break\n",
    "        smallest_distance_candidate.remove(smallest_distance_candidate[-1])\n",
    "        print(smallest_distance_candidate)\n",
    "    ### in this case we need to decide action base on candidate position \n",
    "    if smallest_distance_candidate[0][0]==0:\n",
    "        action=4 #### in this case, the robot should build brick on its current position \n",
    "        return action,current_action_prior \n",
    "    else: \n",
    "        index=np.random.choice(len(smallest_distance_candidate))\n",
    "        decided_position=smallest_distance_candidate[index][1]\n",
    "        \n",
    "        ##############\n",
    "    if decided_position[0]>3 and decided_position[1]>3:\n",
    "        action = np.random.choice([1,2])\n",
    "        return action,current_action_prior \n",
    "    if decided_position[0]>3 and decided_position[1]<3:\n",
    "        action = np.random.choice([0,2])\n",
    "        return action,current_action_prior \n",
    "    if decided_position[0]<3 and decided_position[1]<3:\n",
    "        action = np.random.choice([0,3])\n",
    "        return action,current_action_prior \n",
    "    if decided_position[0]<3 and decided_position[1]>3:\n",
    "        action = np.random.choice([1,3])\n",
    "        return action,current_action_prior \n",
    "    ################ \n",
    "    if decided_position[0]==3:\n",
    "        if decided_position[1]>3:\n",
    "            action = 1 \n",
    "            return action,current_action_prior\n",
    "        else:\n",
    "            action = 0 \n",
    "            return action,current_action_prior    \n",
    "    if decided_position[1]==3:\n",
    "        if decided_position[0]>3:\n",
    "            action = 2\n",
    "            return action,current_action_prior \n",
    "        else:\n",
    "            action = 3 \n",
    "            return action,current_action_prior  "
   ]
  },
  {
   "cell_type": "code",
   "execution_count": 5,
   "metadata": {
    "scrolled": false
   },
   "outputs": [
    {
     "name": "stdout",
     "output_type": "stream",
     "text": [
      "60.0\n",
      "start\n",
      "[(inf, [0, 0]), (inf, [0, 1]), (inf, [0, 2]), (inf, [0, 3]), (inf, [0, 4]), (inf, [0, 5]), (inf, [0, 6]), (inf, [1, 0]), (inf, [1, 1]), (inf, [1, 2]), (inf, [1, 3]), (inf, [1, 4]), (inf, [1, 5]), (inf, [1, 6]), (inf, [2, 0]), (inf, [2, 1]), (inf, [2, 2]), (inf, [2, 3]), (inf, [2, 4]), (inf, [2, 5]), (inf, [2, 6]), (inf, [3, 0]), (inf, [3, 1]), (inf, [3, 2]), (inf, [3, 3]), (inf, [3, 4]), (inf, [3, 5]), (inf, [3, 6]), (inf, [4, 0]), (inf, [4, 1]), (inf, [4, 2]), (inf, [4, 3]), (inf, [4, 4]), (inf, [4, 5]), (inf, [4, 6]), (inf, [5, 0]), (inf, [5, 1]), (inf, [5, 2]), (inf, [5, 3]), (inf, [5, 4]), (inf, [5, 5]), (inf, [5, 6]), (inf, [6, 0]), (inf, [6, 1]), (inf, [6, 2]), (inf, [6, 3]), (inf, [6, 4]), (inf, [6, 5]), (inf, [6, 6])]\n",
      "action 1\n",
      "enter action1_1\n",
      "check_up\n",
      "check_left\n",
      "position 0 1\n",
      "location 0 1\n",
      "#################\n"
     ]
    },
    {
     "data": {
      "image/png": "[encoded data removed]",
      "text/plain": [
       "<Figure size 360x360 with 1 Axes>"
      ]
     },
     "metadata": {
      "needs_background": "light"
     },
     "output_type": "display_data"
    },
    {
     "name": "stdout",
     "output_type": "stream",
     "text": [
      "[(inf, [0, 0]), (inf, [0, 1]), (inf, [0, 2]), (inf, [0, 3]), (inf, [0, 4]), (inf, [0, 5]), (inf, [0, 6]), (inf, [1, 0]), (inf, [1, 1]), (inf, [1, 2]), (inf, [1, 3]), (inf, [1, 4]), (inf, [1, 5]), (inf, [1, 6]), (inf, [2, 0]), (inf, [2, 1]), (inf, [2, 2]), (inf, [2, 3]), (inf, [2, 4]), (inf, [2, 5]), (inf, [2, 6]), (inf, [3, 0]), (inf, [3, 1]), (inf, [3, 2]), (inf, [3, 3]), (inf, [3, 4]), (inf, [3, 5]), (inf, [3, 6]), (inf, [4, 0]), (inf, [4, 1]), (inf, [4, 2]), (inf, [4, 3]), (inf, [4, 4]), (inf, [4, 5]), (inf, [4, 6]), (inf, [5, 0]), (inf, [5, 1]), (inf, [5, 2]), (inf, [5, 3]), (inf, [5, 4]), (inf, [5, 5]), (inf, [5, 6]), (inf, [6, 0]), (inf, [6, 1]), (inf, [6, 2]), (inf, [6, 3]), (inf, [6, 4]), (inf, [6, 5]), (inf, [6, 6])]\n",
      "action 1\n",
      "enter action1_2\n",
      "check_up\n",
      "position 0 4\n",
      "location 0 3\n",
      "#################\n"
     ]
    },
    {
     "data": {
      "image/png": "[encoded data removed]",
      "text/plain": [
       "<Figure size 432x288 with 1 Axes>"
      ]
     },
     "metadata": {
      "needs_background": "light"
     },
     "output_type": "display_data"
    },
    {
     "name": "stdout",
     "output_type": "stream",
     "text": [
      "[(5, [6, 5]), (inf, [0, 1]), (6, [6, 6]), (inf, [0, 3]), (inf, [0, 4]), (inf, [0, 0]), (inf, [0, 6]), (inf, [1, 0]), (inf, [1, 1]), (inf, [1, 2]), (inf, [1, 3]), (inf, [0, 2]), (inf, [1, 5]), (inf, [1, 6]), (inf, [2, 0]), (inf, [2, 1]), (inf, [2, 2]), (inf, [2, 3]), (inf, [2, 4]), (inf, [2, 5]), (inf, [2, 6]), (inf, [3, 0]), (inf, [3, 1]), (inf, [0, 5]), (inf, [3, 3]), (inf, [3, 4]), (inf, [3, 5]), (inf, [3, 6]), (inf, [4, 0]), (inf, [4, 1]), (inf, [4, 2]), (inf, [4, 3]), (inf, [4, 4]), (inf, [4, 5]), (inf, [4, 6]), (inf, [5, 0]), (inf, [5, 1]), (inf, [5, 2]), (inf, [5, 3]), (inf, [5, 4]), (inf, [5, 5]), (inf, [5, 6]), (inf, [6, 0]), (inf, [6, 1]), (inf, [6, 2]), (inf, [6, 3]), (inf, [6, 4]), (inf, [3, 2]), (inf, [1, 4])]\n",
      "[(5, [6, 5])]\n",
      "action 2\n",
      "enter action2_1\n",
      "check_up\n",
      "position 1 4\n",
      "location 1 3\n",
      "#################\n"
     ]
    },
    {
     "data": {
      "image/png": "[encoded data removed]",
      "text/plain": [
       "<Figure size 432x288 with 1 Axes>"
      ]
     },
     "metadata": {
      "needs_background": "light"
     },
     "output_type": "display_data"
    },
    {
     "name": "stdout",
     "output_type": "stream",
     "text": [
      "[(4, [5, 5]), (4, [6, 4]), (5, [6, 5]), (inf, [0, 3]), (5, [5, 6]), (inf, [0, 2]), (inf, [0, 6]), (inf, [1, 0]), (inf, [1, 1]), (inf, [0, 1]), (inf, [0, 0]), (inf, [0, 5]), (inf, [1, 5]), (inf, [1, 6]), (inf, [2, 0]), (inf, [2, 1]), (inf, [2, 2]), (inf, [2, 3]), (inf, [2, 4]), (inf, [1, 2]), (inf, [0, 4]), (inf, [3, 0]), (inf, [1, 3]), (inf, [1, 4]), (inf, [3, 3]), (inf, [3, 4]), (inf, [3, 5]), (inf, [3, 6]), (inf, [4, 0]), (inf, [4, 1]), (inf, [4, 2]), (inf, [4, 3]), (inf, [4, 4]), (inf, [4, 5]), (inf, [4, 6]), (inf, [5, 0]), (inf, [5, 1]), (inf, [5, 2]), (inf, [5, 3]), (inf, [5, 4]), (inf, [2, 5]), (inf, [2, 6]), (inf, [6, 0]), (inf, [6, 1]), (inf, [6, 2]), (inf, [6, 3]), (inf, [3, 1]), (inf, [3, 2]), (inf, [6, 6])]\n",
      "[(4, [5, 5]), (4, [6, 4])]\n",
      "action 1\n",
      "enter action_none\n",
      "check_up\n",
      "position 1 5\n",
      "location 1 4\n",
      "#################\n"
     ]
    },
    {
     "data": {
      "image/png": "[encoded data removed]",
      "text/plain": [
       "<Figure size 432x288 with 1 Axes>"
      ]
     },
     "metadata": {
      "needs_background": "light"
     },
     "output_type": "display_data"
    },
    {
     "name": "stdout",
     "output_type": "stream",
     "text": [
      "[(3, [5, 4]), (3, [6, 3]), (inf, [0, 2]), (inf, [0, 1]), (4, [4, 6]), (inf, [0, 5]), (inf, [0, 6]), (inf, [0, 3]), (inf, [1, 1]), (5, [5, 6]), (4, [5, 5]), (inf, [1, 4]), (inf, [1, 5]), (inf, [1, 6]), (inf, [2, 0]), (inf, [2, 1]), (inf, [1, 0]), (inf, [2, 3]), (inf, [2, 4]), (inf, [0, 4]), (inf, [0, 0]), (inf, [3, 0]), (4, [6, 4]), (inf, [3, 2]), (inf, [3, 3]), (inf, [3, 4]), (inf, [3, 5]), (inf, [3, 6]), (inf, [4, 0]), (inf, [4, 1]), (inf, [4, 2]), (inf, [4, 3]), (inf, [4, 4]), (inf, [4, 5]), (inf, [2, 2]), (inf, [5, 0]), (inf, [5, 1]), (inf, [5, 2]), (inf, [5, 3]), (inf, [2, 5]), (inf, [1, 2]), (inf, [2, 6]), (inf, [6, 0]), (inf, [6, 1]), (inf, [6, 2]), (inf, [3, 1]), (inf, [1, 3]), (inf, [6, 5]), (inf, [6, 6])]\n",
      "[(3, [5, 4]), (3, [6, 3])]\n",
      "action 2\n",
      "enter action2_2\n",
      "position 4 5\n",
      "location 3 4\n",
      "#################\n"
     ]
    },
    {
     "data": {
      "image/png": "[encoded data removed]",
      "text/plain": [
       "<Figure size 432x288 with 1 Axes>"
      ]
     },
     "metadata": {
      "needs_background": "light"
     },
     "output_type": "display_data"
    },
    {
     "name": "stdout",
     "output_type": "stream",
     "text": [
      "[(1, [3, 4]), (1, [4, 3]), (2, [3, 5]), (2, [4, 4]), (4, [6, 2]), (4, [2, 6]), (3, [3, 6]), (inf, [0, 0]), (2, [5, 3]), (inf, [0, 4]), (inf, [0, 1]), (inf, [1, 4]), (inf, [0, 2]), (inf, [0, 6]), (inf, [2, 0]), (inf, [0, 3]), (inf, [2, 2]), (inf, [2, 3]), (3, [5, 2]), (inf, [2, 5]), (inf, [1, 2]), (inf, [1, 3]), (inf, [3, 1]), (inf, [3, 2]), (inf, [3, 3]), (inf, [1, 5]), (inf, [0, 5]), (inf, [1, 6]), (inf, [4, 0]), (inf, [4, 1]), (inf, [4, 2]), (inf, [2, 1]), (inf, [1, 0]), (inf, [4, 5]), (inf, [4, 6]), (inf, [5, 0]), (inf, [5, 1]), (inf, [2, 4]), (inf, [1, 1]), (inf, [5, 4]), (inf, [5, 5]), (inf, [5, 6]), (inf, [6, 0]), (inf, [6, 1]), (inf, [3, 0]), (inf, [6, 3]), (inf, [6, 4]), (inf, [6, 5]), (inf, [6, 6])]\n",
      "[(1, [3, 4]), (1, [4, 3])]\n",
      "action 2\n",
      "enter action_none\n",
      "position 7 5\n",
      "location 4 4\n",
      "#################\n"
     ]
    },
    {
     "data": {
      "image/png": "[encoded data removed]",
      "text/plain": [
       "<Figure size 432x288 with 1 Axes>"
      ]
     },
     "metadata": {
      "needs_background": "light"
     },
     "output_type": "display_data"
    },
    {
     "name": "stdout",
     "output_type": "stream",
     "text": [
      "[(0, [3, 3]), (1, [4, 3]), (1, [3, 4]), (3, [2, 5]), (4, [2, 6]), (2, [2, 4]), (2, [4, 2]), (inf, [0, 1]), (3, [5, 2]), (5, [1, 6]), (4, [6, 2]), (inf, [0, 5]), (inf, [0, 0]), (inf, [0, 6]), (inf, [0, 2]), (inf, [1, 0]), (inf, [2, 2]), (inf, [2, 3]), (inf, [0, 3]), (inf, [1, 2]), (inf, [0, 4]), (5, [6, 1]), (inf, [3, 1]), (inf, [3, 2]), (inf, [1, 4]), (inf, [1, 5]), (inf, [3, 5]), (inf, [3, 6]), (inf, [4, 0]), (inf, [4, 1]), (inf, [2, 0]), (inf, [2, 1]), (inf, [4, 4]), (inf, [4, 5]), (inf, [4, 6]), (inf, [5, 0]), (inf, [5, 1]), (inf, [1, 1]), (inf, [5, 3]), (inf, [5, 4]), (inf, [5, 5]), (inf, [5, 6]), (inf, [6, 0]), (inf, [3, 0]), (inf, [1, 3]), (inf, [6, 3]), (inf, [6, 4]), (inf, [6, 5]), (inf, [6, 6])]\n",
      "[(0, [3, 3])]\n",
      "action 4\n",
      "position 7 5\n",
      "location 4 4\n",
      "#################\n"
     ]
    },
    {
     "data": {
      "image/png": "[encoded data removed]",
      "text/plain": [
       "<Figure size 432x288 with 1 Axes>"
      ]
     },
     "metadata": {
      "needs_background": "light"
     },
     "output_type": "display_data"
    },
    {
     "name": "stdout",
     "output_type": "stream",
     "text": [
      "[(1, [3, 4]), (1, [4, 3]), (2, [2, 4]), (3, [2, 5]), (4, [2, 6]), (inf, [0, 0]), (2, [4, 2]), (inf, [0, 1]), (3, [5, 2]), (5, [1, 6]), (4, [6, 2]), (inf, [1, 4]), (inf, [0, 5]), (inf, [0, 6]), (inf, [0, 2]), (inf, [1, 0]), (inf, [2, 2]), (inf, [2, 3]), (inf, [0, 3]), (inf, [1, 2]), (inf, [0, 4]), (5, [6, 1]), (inf, [3, 1]), (inf, [3, 2]), (inf, [3, 3]), (inf, [1, 5]), (inf, [3, 5]), (inf, [3, 6]), (inf, [4, 0]), (inf, [4, 1]), (inf, [2, 0]), (inf, [2, 1]), (inf, [4, 4]), (inf, [4, 5]), (inf, [4, 6]), (inf, [5, 0]), (inf, [5, 1]), (inf, [1, 1]), (inf, [5, 3]), (inf, [5, 4]), (inf, [5, 5]), (inf, [5, 6]), (inf, [6, 0]), (inf, [3, 0]), (inf, [1, 3]), (inf, [6, 3]), (inf, [6, 4]), (inf, [6, 5]), (inf, [6, 6])]\n",
      "[(1, [3, 4]), (1, [4, 3])]\n",
      "action 1\n",
      "enter action1_2\n",
      "position 7 7\n",
      "location 4 6\n",
      "#################\n"
     ]
    },
    {
     "data": {
      "image/png": "[encoded data removed]",
      "text/plain": [
       "<Figure size 432x288 with 1 Axes>"
      ]
     },
     "metadata": {
      "needs_background": "light"
     },
     "output_type": "display_data"
    },
    {
     "name": "stdout",
     "output_type": "stream",
     "text": [
      "[(1, [2, 3]), (2, [2, 2]), (1, [3, 2]), (2, [2, 4]), (6, [6, 0]), (4, [1, 5]), (3, [4, 1]), (inf, [0, 3]), (3, [1, 4]), (inf, [0, 4]), (inf, [1, 3]), (inf, [0, 0]), (inf, [0, 2]), (5, [1, 6]), (4, [4, 0]), (inf, [2, 1]), (inf, [1, 0]), (5, [5, 0]), (inf, [0, 1]), (inf, [2, 5]), (inf, [1, 2]), (inf, [3, 0]), (inf, [3, 1]), (inf, [0, 5]), (inf, [3, 3]), (inf, [3, 4]), (inf, [3, 5]), (inf, [3, 6]), (inf, [0, 6]), (inf, [2, 0]), (inf, [4, 2]), (inf, [4, 3]), (inf, [4, 4]), (inf, [4, 5]), (inf, [4, 6]), (inf, [1, 1]), (inf, [5, 1]), (inf, [5, 2]), (inf, [5, 3]), (inf, [5, 4]), (inf, [5, 5]), (inf, [5, 6]), (inf, [2, 6]), (inf, [6, 1]), (inf, [6, 2]), (inf, [6, 3]), (inf, [6, 4]), (inf, [6, 5]), (inf, [6, 6])]\n",
      "[(1, [2, 3]), (1, [3, 2])]\n",
      "action 0\n",
      "enter action0_2\n",
      "position 7 5\n",
      "location 4 4\n",
      "#################\n"
     ]
    },
    {
     "data": {
      "image/png": "[encoded data removed]",
      "text/plain": [
       "<Figure size 432x288 with 1 Axes>"
      ]
     },
     "metadata": {
      "needs_background": "light"
     },
     "output_type": "display_data"
    },
    {
     "name": "stdout",
     "output_type": "stream",
     "text": [
      "[(1, [3, 4]), (1, [4, 3]), (2, [2, 4]), (3, [2, 5]), (4, [2, 6]), (inf, [0, 0]), (2, [4, 2]), (inf, [0, 1]), (3, [5, 2]), (5, [1, 6]), (4, [6, 2]), (inf, [1, 4]), (inf, [0, 5]), (inf, [0, 6]), (inf, [0, 2]), (inf, [1, 0]), (inf, [2, 2]), (inf, [2, 3]), (inf, [0, 3]), (inf, [1, 2]), (inf, [0, 4]), (5, [6, 1]), (inf, [3, 1]), (inf, [3, 2]), (inf, [3, 3]), (inf, [1, 5]), (inf, [3, 5]), (inf, [3, 6]), (inf, [4, 0]), (inf, [4, 1]), (inf, [2, 0]), (inf, [2, 1]), (inf, [4, 4]), (inf, [4, 5]), (inf, [4, 6]), (inf, [5, 0]), (inf, [5, 1]), (inf, [1, 1]), (inf, [5, 3]), (inf, [5, 4]), (inf, [5, 5]), (inf, [5, 6]), (inf, [6, 0]), (inf, [3, 0]), (inf, [1, 3]), (inf, [6, 3]), (inf, [6, 4]), (inf, [6, 5]), (inf, [6, 6])]\n",
      "[(1, [3, 4]), (1, [4, 3])]\n",
      "action 1\n",
      "enter action1_2\n",
      "position 7 7\n",
      "location 4 6\n",
      "#################\n"
     ]
    },
    {
     "data": {
      "image/png": "[encoded data removed]",
      "text/plain": [
       "<Figure size 432x288 with 1 Axes>"
      ]
     },
     "metadata": {
      "needs_background": "light"
     },
     "output_type": "display_data"
    },
    {
     "name": "stdout",
     "output_type": "stream",
     "text": [
      "reward: 0\n"
     ]
    }
   ],
   "source": [
    "env = deep_mobile_printing_2d1r(plan_choose=1)\n",
    "fig = plt.figure(figsize=(5, 5))\n",
    "ax = fig.add_subplot(1, 1, 1)\n",
    "total_reward = 0\n",
    "obs = env.reset()\n",
    "env.render(ax)\n",
    "print(env.total_brick)\n",
    "current_position=[0,0]\n",
    "current_position_l=[0,0]\n",
    "current_action_prior=[0, 0, 0, 0] \n",
    "# print('location', x, y)\n",
    "# print('position', env.position_memory[-1][1] - 3, env.position_memory[-1][0] - 3)\n",
    "print('start')\n",
    "for i in range(700):\n",
    "    action,next_action_prior = planing(current_position,obs,current_action_prior)\n",
    "    print('action', action)\n",
    "    new_obs, reward, done = env.step(action)\n",
    "    next_position = localization(action, obs, new_obs, current_position_l)\n",
    "    print('position', env.position_memory[-1][0] - 3, env.position_memory[-1][1] - 3)\n",
    "    print('location', next_position[1], next_position[0])\n",
    "    print('#################')\n",
    "\n",
    "    env.render(ax)\n",
    "    plt.pause(2)\n",
    "    total_reward += reward\n",
    "    obs = new_obs\n",
    "    current_position=[next_position[1],next_position[0]]\n",
    "    current_position_l=next_position\n",
    "    current_action_prior=next_action_prior\n",
    "    if done:\n",
    "        break\n",
    "print(\"reward:\", total_reward)\n",
    "plt.show()"
   ]
  },
  {
   "cell_type": "code",
   "execution_count": 1,
   "metadata": {},
   "outputs": [],
   "source": [
    "import numpy as np"
   ]
  },
  {
   "cell_type": "code",
   "execution_count": 3,
   "metadata": {},
   "outputs": [],
   "source": [
    "a=np.array([[-1., -1., 17.,  0.,  0.]])"
   ]
  },
  {
   "cell_type": "code",
   "execution_count": 4,
   "metadata": {},
   "outputs": [],
   "source": [
    "b=np.array([[ 17.,  0.,  0.,0.,0.]])"
   ]
  },
  {
   "cell_type": "code",
   "execution_count": 7,
   "metadata": {},
   "outputs": [
    {
     "data": {
      "text/plain": [
       "True"
      ]
     },
     "execution_count": 7,
     "metadata": {},
     "output_type": "execute_result"
    }
   ],
   "source": [
    "np.array_equal(a[0,2:], b[0,:-2])"
   ]
  },
  {
   "cell_type": "code",
   "execution_count": null,
   "metadata": {},
   "outputs": [],
   "source": []
  }
 ],
 "metadata": {
  "kernelspec": {
   "display_name": "Python 3",
   "language": "python",
   "name": "python3"
  },
  "language_info": {
   "codemirror_mode": {
    "name": "ipython",
    "version": 3
   },
   "file_extension": ".py",
   "mimetype": "text/x-python",
   "name": "python",
   "nbconvert_exporter": "python",
   "pygments_lexer": "ipython3",
   "version": "3.7.4"
  }
 },
 "nbformat": 4,
 "nbformat_minor": 2
}
